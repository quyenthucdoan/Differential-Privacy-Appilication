{
  "nbformat": 4,
  "nbformat_minor": 0,
  "metadata": {
    "colab": {
      "name": "Untitled30.ipynb",
      "provenance": []
    },
    "kernelspec": {
      "name": "python3",
      "display_name": "Python 3"
    },
    "language_info": {
      "name": "python"
    }
  },
  "cells": [
    {
      "cell_type": "markdown",
      "metadata": {
        "id": "AzP7Ka9OfzKB"
      },
      "source": [
        "Demo: Diffirential Privacy trong ngữ cảnh của một database query.\n",
        "* Là một cơ sở dữ liệu RẤT đơn giản với chỉ một cột boolean.\n",
        "* Mỗi hàng tương ứng với một người.\n",
        "* Mỗi giá trị tương ứng với việc người đó có một thuộc tính riêng nhất định hay không (chẳng hạn như họ có mắc một bệnh nào đó hay không, hoặc họ có trên / dưới một độ tuổi nhất định hay không).\n",
        "* Sau đó, chúng ta sẽ tìm hiểu rằng liệu một truy vấn cơ sở dữ liệu trên một cơ sở dữ liệu nhỏ như vậy có phải là riêng tư hay không"
      ]
    },
    {
      "cell_type": "code",
      "metadata": {
        "colab": {
          "base_uri": "https://localhost:8080/"
        },
        "id": "Kw0VK4Luf1gj",
        "outputId": "9a0b9926-1e82-46e8-8737-b945965706e8"
      },
      "source": [
        "import torch\n",
        "# Torch là một framework được xây dựng dựa trên python cung cấp nền tảng tính toán khoa học phục vụ lĩnh vực Deep learning\n",
        "# https://pytorch.org/docs/stable/index.html\n",
        "\n",
        "# số lượng record trong database\n",
        "num_entries = 5000\n",
        "\n",
        "db = torch.rand(num_entries) > 0.5\n",
        "db"
      ],
      "execution_count": null,
      "outputs": [
        {
          "output_type": "execute_result",
          "data": {
            "text/plain": [
              "tensor([ True,  True,  True,  ..., False, False, False])"
            ]
          },
          "metadata": {},
          "execution_count": 3
        }
      ]
    },
    {
      "cell_type": "markdown",
      "metadata": {
        "id": "ESLFJdwqf-lr"
      },
      "source": [
        "Nếu xóa ai đó khỏi cơ sở dữ liệu, kết quả đầu ra của truy vấn có \n",
        "khác không?\n",
        "\n",
        "**Tạo các database song song**\n",
        "\n"
      ]
    },
    {
      "cell_type": "code",
      "metadata": {
        "id": "mUfaD-DmgAwz"
      },
      "source": [
        "def get_parallel_db(db, removed_index):\n",
        "  return torch.cat((db[0:removed_index], db[removed_index+1:]))"
      ],
      "execution_count": null,
      "outputs": []
    },
    {
      "cell_type": "code",
      "metadata": {
        "id": "4Yml1YYAgCn8",
        "colab": {
          "base_uri": "https://localhost:8080/"
        },
        "outputId": "4ffbf78b-1068-4279-de84-873b6b2f29a5"
      },
      "source": [
        "get_parallel_db(db,3)"
      ],
      "execution_count": null,
      "outputs": [
        {
          "output_type": "execute_result",
          "data": {
            "text/plain": [
              "tensor([ True,  True,  True,  ..., False, False, False])"
            ]
          },
          "metadata": {},
          "execution_count": 6
        }
      ]
    },
    {
      "cell_type": "code",
      "metadata": {
        "id": "8eu_jYl9gD9j"
      },
      "source": [
        "def get_parallel_dbs(db):\n",
        "  parallel_dbs = list()\n",
        "  for i in range(len(db)):\n",
        "    parallel_dbs.append(get_parallel_db(db, i))\n",
        "  return parallel_dbs"
      ],
      "execution_count": null,
      "outputs": []
    },
    {
      "cell_type": "code",
      "metadata": {
        "id": "3Txb47mRgFX6"
      },
      "source": [
        "pdbs = get_parallel_dbs(db)\n",
        "pdbs"
      ],
      "execution_count": null,
      "outputs": []
    },
    {
      "cell_type": "code",
      "metadata": {
        "id": "En1nFu5rgGcz"
      },
      "source": [
        "def create_db_and_parallels(num_entries):\n",
        "  db = torch.rand(num_entries) > 0.5\n",
        "  pdbs = get_parallel_dbs(db)\n",
        "  \n",
        "  return db, pdbs"
      ],
      "execution_count": null,
      "outputs": []
    },
    {
      "cell_type": "code",
      "metadata": {
        "id": "VaGujzrEgHl2"
      },
      "source": [
        "db, pdbs = create_db_and_parallels(5000)"
      ],
      "execution_count": null,
      "outputs": []
    },
    {
      "cell_type": "markdown",
      "metadata": {
        "id": "dxv3VTZLgJEU"
      },
      "source": [
        "**Tính toán quyền riêng tư của Function**"
      ]
    },
    {
      "cell_type": "code",
      "metadata": {
        "id": "c3e3vtFmgKvU",
        "colab": {
          "base_uri": "https://localhost:8080/"
        },
        "outputId": "3859a984-1440-40f8-9806-ccfdefc1f3af"
      },
      "source": [
        "def query(db):\n",
        "    return db.sum()\n",
        "\n",
        "# Độ nhạy là sự đo lường mức độ nhạy cảm của output đối với một người bị xóa khỏi cơ sở dữ liệu\n",
        "# Tính độ nhạy cảm của hàm sum\n",
        "full_db_result = query(db)\n",
        "sensitivity = 0\n",
        "for pdb in pdbs:\n",
        "    pdb_result = query(pdb)\n",
        "    db_distance = torch.abs(pdb_result - full_db_result)\n",
        "    if(db_distance > sensitivity):\n",
        "        sensitivity = db_distance\n",
        "\n",
        "sensitivity "
      ],
      "execution_count": null,
      "outputs": [
        {
          "output_type": "execute_result",
          "data": {
            "text/plain": [
              "tensor(1)"
            ]
          },
          "metadata": {},
          "execution_count": 12
        }
      ]
    },
    {
      "cell_type": "code",
      "metadata": {
        "id": "Lm979GebgMrG",
        "colab": {
          "base_uri": "https://localhost:8080/"
        },
        "outputId": "98076761-94a0-4589-db90-e707b52a2175"
      },
      "source": [
        "def query_mean(db):\n",
        "  return db.float().mean()\n",
        "def sensitivity(query_mean, n_entries=1000):\n",
        "  db, pdbs = create_db_and_parallels(n_entries)\n",
        "  full_db_result = query_mean(db)\n",
        "  max_distance = 0\n",
        "  \n",
        "  for pdb in pdbs:\n",
        "    pdb_result = query_mean(pdb)\n",
        "    db_distance = torch.abs(pdb_result - full_db_result)\n",
        "    \n",
        "    if(db_distance > max_distance):\n",
        "      max_distance = db_distance\n",
        "      \n",
        "  return max_distance\n",
        "sensitivity(query_mean)"
      ],
      "execution_count": null,
      "outputs": [
        {
          "output_type": "execute_result",
          "data": {
            "text/plain": [
              "tensor(0.0005)"
            ]
          },
          "metadata": {},
          "execution_count": 13
        }
      ]
    },
    {
      "cell_type": "markdown",
      "metadata": {
        "id": "NR2LQ7z8gQzQ"
      },
      "source": [
        "\n",
        "\n",
        "*   Đối với hàm SUM, giá trị này luôn là 1. \n",
        "\n",
        "*   Đối với hàm MEAN, việc loại bỏ một người sẽ thay đổi kết quả của truy vấn bằng cách lấy 1 chia cho kích thước của cơ sở dữ liệu. \n",
        "\n",
        "=> Do đó, MEAN ít nhạy cảm hơn nhiều so với hàm SUM."
      ]
    },
    {
      "cell_type": "markdown",
      "metadata": {
        "id": "qjuMFGNRgU4N"
      },
      "source": [
        "**Local Differential Privacy**"
      ]
    },
    {
      "cell_type": "code",
      "metadata": {
        "id": "5MPezPLPgXbh"
      },
      "source": [
        "def query_local_privacy(db_local):\n",
        "  true_result = query_mean(db_local)\n",
        "\n",
        "  first_coin_flip = (torch.rand(len(db_local)) > 0.5).float()\n",
        "  second_coin_flip = (torch.rand(len(db_local)) > 0.5).float()\n",
        "  \n",
        "  db_local_noise = db_local.float() * first_coin_flip + (1-first_coin_flip)* second_coin_flip\n",
        "  noise_result = query_mean(db_local_noise) * 2 - 0.5\n",
        "  \n",
        "  return noise_result, true_result"
      ],
      "execution_count": null,
      "outputs": []
    },
    {
      "cell_type": "code",
      "metadata": {
        "id": "TKDEBvNbgZJN",
        "colab": {
          "base_uri": "https://localhost:8080/"
        },
        "outputId": "d4506f35-4bbf-486f-fcee-81c3a38f8193"
      },
      "source": [
        "db_local,_ = create_db_and_parallels(10)\n",
        "noise_result, true_result = query_local_privacy(db_local)\n",
        "print(\"With noise: \" + str(noise_result))\n",
        "print(\"Without noise: \" + str(true_result))"
      ],
      "execution_count": null,
      "outputs": [
        {
          "output_type": "stream",
          "name": "stdout",
          "text": [
            "With noise: tensor(0.3000)\n",
            "Without noise: tensor(0.6000)\n"
          ]
        }
      ]
    },
    {
      "cell_type": "code",
      "metadata": {
        "id": "ZlfccqkBgaTr",
        "colab": {
          "base_uri": "https://localhost:8080/"
        },
        "outputId": "c821aeb7-d9ea-406b-aaf2-1838193da1f5"
      },
      "source": [
        "db_local,_ = create_db_and_parallels(100)\n",
        "noise_result, true_result = query_local_privacy(db_local)\n",
        "print(\"With noise: \" + str(noise_result))\n",
        "print(\"Without noise: \" + str(true_result))"
      ],
      "execution_count": null,
      "outputs": [
        {
          "output_type": "stream",
          "name": "stdout",
          "text": [
            "With noise: tensor(0.4600)\n",
            "Without noise: tensor(0.4400)\n"
          ]
        }
      ]
    },
    {
      "cell_type": "code",
      "metadata": {
        "id": "sVDSgdd_gbww",
        "colab": {
          "base_uri": "https://localhost:8080/"
        },
        "outputId": "7281e877-486c-41e0-c4ce-abbf13c95633"
      },
      "source": [
        "db_local,_ = create_db_and_parallels(10000)\n",
        "noise_result, true_result = query_local_privacy(db_local)\n",
        "print(\"With noise: \" + str(noise_result))\n",
        "print(\"Without noise: \" + str(true_result))"
      ],
      "execution_count": null,
      "outputs": [
        {
          "output_type": "stream",
          "name": "stdout",
          "text": [
            "With noise: tensor(0.5086)\n",
            "Without noise: tensor(0.5035)\n"
          ]
        }
      ]
    }
  ]
}